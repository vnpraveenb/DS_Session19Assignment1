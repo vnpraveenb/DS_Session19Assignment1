{
 "cells": [
  {
   "cell_type": "code",
   "execution_count": 1,
   "metadata": {},
   "outputs": [],
   "source": [
    "# Is gender independent of education level? A random sample of 395 people were\n",
    "# surveyed and each person was asked to report the highest education level they\n",
    "# obtained. The data that resulted from the survey is summarized in the following table:\n",
    "#        High-School Bachelors Masters Ph.d. Total\n",
    "# Female  60           54        46     41    201\n",
    "# Male    40           44        53     57    194\n",
    "# Total  100           98        99     98    395\n",
    "\n",
    "# Question: Are gender and education level dependent at 5% level of significance? In\n",
    "# other words, given the data collected above, is there a relationship between"
   ]
  },
  {
   "cell_type": "code",
   "execution_count": 2,
   "metadata": {},
   "outputs": [],
   "source": [
    "import numpy as np\n",
    "import scipy.stats as stats"
   ]
  },
  {
   "cell_type": "code",
   "execution_count": 3,
   "metadata": {},
   "outputs": [],
   "source": [
    "female = [60, 54, 46, 41]\n",
    "male = [40, 44, 53, 57]"
   ]
  },
  {
   "cell_type": "code",
   "execution_count": 4,
   "metadata": {},
   "outputs": [],
   "source": [
    "# H0: Male and Female categories are independent of each other\n",
    "# H1: Male and Female categories are dependent on each other\n",
    "# Perform the chisquare test. We get chisquare test statistic and p-value\n",
    "# Check for p-value <= 0.05 level of significance depending on which we reject the Null hypothesis\n",
    "# Check for p-value > 0.05 level of significance depending on which we accept the Null hypothesis"
   ]
  },
  {
   "cell_type": "code",
   "execution_count": 5,
   "metadata": {},
   "outputs": [
    {
     "data": {
      "text/plain": [
       "Power_divergenceResult(statistic=17.688483644789503, pvalue=0.0005099468162445207)"
      ]
     },
     "execution_count": 5,
     "metadata": {},
     "output_type": "execute_result"
    }
   ],
   "source": [
    "# Chi-squared Test\n",
    "stats.chisquare(female,male)"
   ]
  },
  {
   "cell_type": "code",
   "execution_count": 6,
   "metadata": {},
   "outputs": [
    {
     "name": "stdout",
     "output_type": "stream",
     "text": [
      "Since pvalue < 0.05, we reject the null hypothesis that Male and Female categories are independent of each other\n",
      "Therefore, education level depends on the gender at 5% level of significance\n"
     ]
    }
   ],
   "source": [
    "print(\"Since pvalue < 0.05, we reject the null hypothesis that Male and Female categories are independent of each other\")\n",
    "print(\"Therefore, education level depends on the gender at 5% level of significance\")"
   ]
  }
 ],
 "metadata": {
  "kernelspec": {
   "display_name": "Python 3",
   "language": "python",
   "name": "python3"
  },
  "language_info": {
   "codemirror_mode": {
    "name": "ipython",
    "version": 3
   },
   "file_extension": ".py",
   "mimetype": "text/x-python",
   "name": "python",
   "nbconvert_exporter": "python",
   "pygments_lexer": "ipython3",
   "version": "3.6.4"
  },
  "latex_envs": {
   "LaTeX_envs_menu_present": true,
   "autoclose": false,
   "autocomplete": true,
   "bibliofile": "biblio.bib",
   "cite_by": "apalike",
   "current_citInitial": 1,
   "eqLabelWithNumbers": true,
   "eqNumInitial": 1,
   "hotkeys": {
    "equation": "Ctrl-E",
    "itemize": "Ctrl-I"
   },
   "labels_anchors": false,
   "latex_user_defs": false,
   "report_style_numbering": false,
   "user_envs_cfg": false
  },
  "toc": {
   "base_numbering": 1,
   "nav_menu": {},
   "number_sections": true,
   "sideBar": true,
   "skip_h1_title": false,
   "title_cell": "Table of Contents",
   "title_sidebar": "Contents",
   "toc_cell": false,
   "toc_position": {},
   "toc_section_display": true,
   "toc_window_display": false
  }
 },
 "nbformat": 4,
 "nbformat_minor": 2
}
